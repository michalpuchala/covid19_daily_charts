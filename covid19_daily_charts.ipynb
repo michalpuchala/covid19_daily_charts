{
 "cells": [
  {
   "cell_type": "markdown",
   "metadata": {},
   "source": [
    "#### Setup\n",
    "1. go to https://github.com/CSSEGISandData/COVID-19\n",
    "2. git clone John Hopkins data repository into your Documents folder (only works for Windows, make necessary adjustments if you're on Mac)"
   ]
  },
  {
   "cell_type": "code",
   "execution_count": 1,
   "metadata": {},
   "outputs": [
    {
     "ename": "FileNotFoundError",
     "evalue": "[WinError 2] The system cannot find the file specified: 'C:/Users/m.puchala/Documents/git/COVID-19'",
     "output_type": "error",
     "traceback": [
      "\u001b[1;31m---------------------------------------------------------------------------\u001b[0m",
      "\u001b[1;31mFileNotFoundError\u001b[0m                         Traceback (most recent call last)",
      "\u001b[1;32m<ipython-input-1-cd6047d6e201>\u001b[0m in \u001b[0;36m<module>\u001b[1;34m\u001b[0m\n\u001b[0;32m      9\u001b[0m \u001b[1;32mfrom\u001b[0m \u001b[0mdatetime\u001b[0m \u001b[1;32mimport\u001b[0m \u001b[0mdatetime\u001b[0m\u001b[1;33m\u001b[0m\u001b[1;33m\u001b[0m\u001b[0m\n\u001b[0;32m     10\u001b[0m \u001b[0muser\u001b[0m \u001b[1;33m=\u001b[0m \u001b[0mgetpass\u001b[0m\u001b[1;33m.\u001b[0m\u001b[0mgetuser\u001b[0m\u001b[1;33m(\u001b[0m\u001b[1;33m)\u001b[0m\u001b[1;33m\u001b[0m\u001b[1;33m\u001b[0m\u001b[0m\n\u001b[1;32m---> 11\u001b[1;33m \u001b[0mos\u001b[0m\u001b[1;33m.\u001b[0m\u001b[0mchdir\u001b[0m\u001b[1;33m(\u001b[0m\u001b[1;34m\"C:/Users/\"\u001b[0m\u001b[1;33m+\u001b[0m\u001b[0muser\u001b[0m\u001b[1;33m+\u001b[0m\u001b[1;34m\"/Documents/git/COVID-19\"\u001b[0m\u001b[1;33m)\u001b[0m\u001b[1;33m\u001b[0m\u001b[1;33m\u001b[0m\u001b[0m\n\u001b[0m\u001b[0;32m     12\u001b[0m \u001b[1;33m\u001b[0m\u001b[0m\n\u001b[0;32m     13\u001b[0m \u001b[0mtop_no_countries\u001b[0m \u001b[1;33m=\u001b[0m \u001b[1;36m10\u001b[0m\u001b[1;33m\u001b[0m\u001b[1;33m\u001b[0m\u001b[0m\n",
      "\u001b[1;31mFileNotFoundError\u001b[0m: [WinError 2] The system cannot find the file specified: 'C:/Users/m.puchala/Documents/git/COVID-19'"
     ]
    }
   ],
   "source": [
    "# setup\n",
    "import pandas as pd\n",
    "import numpy as np\n",
    "import matplotlib.pyplot as plt\n",
    "import pycountry_convert as pc\n",
    "import os\n",
    "import getpass\n",
    "import subprocess\n",
    "from datetime import datetime\n",
    "user = getpass.getuser()\n",
    "os.chdir(\"C:/Users/\"+user+\"/Documents/git/COVID-19\")\n",
    "\n",
    "top_no_countries = 10"
   ]
  },
  {
   "cell_type": "code",
   "execution_count": null,
   "metadata": {},
   "outputs": [],
   "source": [
    "# data pulling and date setting\n",
    "output = subprocess.check_output([\"git\", \"pull\"])\n",
    "cases_data  = pd.read_csv(\"csse_covid_19_data/csse_covid_19_time_series/time_series_covid19_confirmed_global.csv\")\n",
    "deaths_data = pd.read_csv(\"csse_covid_19_data/csse_covid_19_time_series/time_series_covid19_deaths_global.csv\")\n",
    "last_day = cases_data.columns[-1]\n",
    "week_ago = cases_data.columns[-8]\n",
    "days_available = cases_data.columns[4:].tolist()\n",
    "print(last_day)"
   ]
  },
  {
   "cell_type": "code",
   "execution_count": null,
   "metadata": {},
   "outputs": [],
   "source": [
    "# adding continent information to the data\n",
    "missing_countries = {\n",
    "    \"Congo (Brazzaville)\": \"AF\",\n",
    "    \"Congo (Kinshasa)\": \"AF\",\n",
    "    \"Cote d'Ivoire\": \"AF\",\n",
    "    \"Diamond Princess\": \"AS\",\n",
    "    \"Holy See\": \"AS\",\n",
    "    \"Korea, South\": \"AS\",\n",
    "    \"Taiwan*\": \"AS\",\n",
    "    \"Timor-Leste\": \"AS\",\n",
    "    \"West Bank and Gaza\": \"AS\",\n",
    "    \"Kosovo\": \"EU\",\n",
    "    \"Burma\": \"AS\",\n",
    "    \"MS Zaandam\": \"NA\",\n",
    "    \"US\": \"NA\",\n",
    "    \"Western Sahara\": \"AF\"}\n",
    "\n",
    "eu_countries = ['Austria', 'Italy', 'Belgium', 'Latvia', 'Bulgaria', 'Lithuania', 'Croatia', 'Luxembourg', 'Cyprus', 'Malta',\n",
    "                'Czechia', 'Netherlands', 'Denmark', 'Poland', 'Estonia', 'Portugal', 'Finland', 'Romania', 'France', 'Slovakia',\n",
    "                'Germany', 'Slovenia', 'Greece', 'Spain', 'Hungary', 'Sweden', 'Ireland']\n",
    "\n",
    "continent_names = {\n",
    "    'EU': 'Europe',\n",
    "    'NA': 'North America',\n",
    "    'AS': 'Asia',\n",
    "    'SA': 'South America',\n",
    "    'AF': 'Africa',\n",
    "    'OC': 'Australia and Oceania'\n",
    "}\n",
    "\n",
    "def country_to_continent(country):\n",
    "    if country in missing_countries:\n",
    "        return continent_names[missing_countries[country]]\n",
    "    elif country in eu_countries:\n",
    "        return 'EU27'\n",
    "    else:\n",
    "        try:\n",
    "            return continent_names[pc.country_alpha2_to_continent_code(pc.country_name_to_country_alpha2(country))]\n",
    "        except:\n",
    "            print(country)\n",
    "            return \"XX\"\n",
    "\n",
    "cases_data['continent']  = cases_data.apply(lambda x: country_to_continent(x['Country/Region']), axis=1)\n",
    "deaths_data['continent'] = deaths_data.apply(lambda x: country_to_continent(x['Country/Region']), axis=1)"
   ]
  },
  {
   "cell_type": "code",
   "execution_count": null,
   "metadata": {},
   "outputs": [],
   "source": [
    "# continents - cases\n",
    "continent_cases = cases_data[['continent', week_ago, last_day]]\n",
    "continent_cases = continent_cases.groupby(['continent']).agg({week_ago: 'sum', last_day: 'sum'})\n",
    "continent_cases['perc_increase'] = continent_cases.apply(lambda x: x[last_day] / x[week_ago] - 1, axis=1)\n",
    "continent_cases['perc_increase'] = pd.Series([\"{0:.2f}%\".format(val * 100) for val in continent_cases['perc_increase']], index = continent_cases.index)\n",
    "continent_cases['perc_of_global'] = continent_cases.apply(lambda x: x[last_day] / sum(cases_data[last_day]), axis=1)\n",
    "continent_cases['perc_of_global'] = pd.Series([\"{0:.2f}%\".format(val * 100) for val in continent_cases['perc_of_global']], index = continent_cases.index)\n",
    "continent_cases.sort_values(by=[last_day], ascending=False, inplace=True)"
   ]
  },
  {
   "cell_type": "code",
   "execution_count": null,
   "metadata": {},
   "outputs": [],
   "source": [
    "# continents - deaths\n",
    "continent_deaths = deaths_data[['continent', week_ago, last_day]]\n",
    "continent_deaths = continent_deaths.groupby(['continent']).agg({week_ago: 'sum', last_day: 'sum'})\n",
    "continent_deaths['perc_increase'] = continent_deaths.apply(lambda x: x[last_day] / x[week_ago] - 1, axis=1)\n",
    "continent_deaths['perc_increase'] = pd.Series([\"{0:.2f}%\".format(val * 100) for val in continent_deaths['perc_increase']], index = continent_deaths.index)\n",
    "continent_deaths['perc_of_global'] = continent_deaths.apply(lambda x: x[last_day] / sum(deaths_data[last_day]), axis=1)\n",
    "continent_deaths['perc_of_global'] = pd.Series([\"{0:.2f}%\".format(val * 100) for val in continent_deaths['perc_of_global']], index = continent_deaths.index)\n",
    "continent_deaths.sort_values(by=[last_day], ascending=False, inplace=True)"
   ]
  },
  {
   "cell_type": "code",
   "execution_count": null,
   "metadata": {},
   "outputs": [],
   "source": [
    "# countries - cases\n",
    "countries_cases = cases_data[['Country/Region', week_ago, last_day]]\n",
    "countries_cases = countries_cases.groupby(['Country/Region']).agg({week_ago: 'sum', last_day: 'sum'})\n",
    "countries_cases['perc_increase'] = countries_cases.apply(lambda x: x[last_day] / x[week_ago] - 1 if x[week_ago] != 0 else 0, axis=1)\n",
    "countries_cases['perc_increase'] = pd.Series([\"{0:.2f}%\".format(val * 100) for val in countries_cases['perc_increase']], index = countries_cases.index)\n",
    "countries_cases['perc_of_global'] = countries_cases.apply(lambda x: x[last_day] / sum(cases_data[last_day]), axis=1)\n",
    "countries_cases['perc_of_global'] = pd.Series([\"{0:.2f}%\".format(val * 100) for val in countries_cases['perc_of_global']], index = countries_cases.index)\n",
    "countries_cases.sort_values(by=[last_day], ascending=False, inplace=True)"
   ]
  },
  {
   "cell_type": "code",
   "execution_count": null,
   "metadata": {},
   "outputs": [],
   "source": [
    "top_countries = list(countries_cases.head(top_no_countries).index)"
   ]
  },
  {
   "cell_type": "code",
   "execution_count": null,
   "metadata": {},
   "outputs": [],
   "source": [
    "# countries - deaths\n",
    "countries_deaths = deaths_data[['Country/Region', week_ago, last_day]]\n",
    "countries_deaths = countries_deaths.groupby(['Country/Region']).agg({week_ago: 'sum', last_day: 'sum'})\n",
    "countries_deaths['perc_increase'] = countries_deaths.apply(lambda x: x[last_day] / x[week_ago] - 1 if x[week_ago] != 0 else 0, axis=1)\n",
    "countries_deaths['perc_increase'] = pd.Series([\"{0:.2f}%\".format(val * 100) for val in countries_deaths['perc_increase']], index = countries_deaths.index)\n",
    "countries_deaths['perc_of_global'] = countries_deaths.apply(lambda x: x[last_day] / sum(deaths_data[last_day]), axis=1)\n",
    "countries_deaths['perc_of_global'] = pd.Series([\"{0:.2f}%\".format(val * 100) for val in countries_deaths['perc_of_global']], index = countries_deaths.index)\n",
    "countries_deaths.sort_values(by=[last_day], ascending=False, inplace=True)"
   ]
  },
  {
   "cell_type": "code",
   "execution_count": null,
   "metadata": {},
   "outputs": [],
   "source": [
    "# continent cases - graph\n",
    "plt.rcParams[\"figure.figsize\"] = (20,10)\n",
    "continent_cases_graph = cases_data[['continent',] + days_available]\n",
    "continent_cases_graph = pd.melt(continent_cases_graph, id_vars=[\"continent\"], value_vars = days_available, var_name = 'day', value_name = 'cases')\n",
    "continent_cases_graph['day'] = continent_cases_graph.apply(lambda x: datetime.strptime(x['day'], '%m/%d/%y'), axis=1)\n",
    "continent_cases_graph.reset_index(inplace=True)\n",
    "continent_cases_graph = pd.pivot_table(continent_cases_graph, values=['cases'], columns=['continent'], index=['day'], aggfunc={'cases': np.sum})\n",
    "for continent in list(continent_cases_graph.columns.levels[1]):\n",
    "    plt.plot(continent_cases_graph.index, continent_cases_graph['cases'][continent])\n",
    "plt.legend()\n",
    "print(continent_cases)"
   ]
  },
  {
   "cell_type": "code",
   "execution_count": null,
   "metadata": {},
   "outputs": [],
   "source": [
    "# continent deaths - graph\n",
    "plt.rcParams[\"figure.figsize\"] = (20,10)\n",
    "continent_deaths_graph = deaths_data[['continent',] + days_available]\n",
    "continent_deaths_graph = pd.melt(continent_deaths_graph, id_vars=[\"continent\"], value_vars = days_available, var_name = 'day', value_name = 'cases')\n",
    "continent_deaths_graph['day'] = continent_deaths_graph.apply(lambda x: datetime.strptime(x['day'], '%m/%d/%y'), axis=1)\n",
    "continent_deaths_graph.reset_index(inplace=True)\n",
    "continent_deaths_graph = pd.pivot_table(continent_deaths_graph, values=['cases'], columns=['continent'], index=['day'], aggfunc={'cases': np.sum})\n",
    "for continent in list(continent_deaths_graph.columns.levels[1]):\n",
    "    plt.plot(continent_deaths_graph.index, continent_deaths_graph['cases'][continent])\n",
    "plt.legend()\n",
    "print(continent_deaths)"
   ]
  },
  {
   "cell_type": "code",
   "execution_count": null,
   "metadata": {},
   "outputs": [],
   "source": [
    "# country cases - graph\n",
    "plt.rcParams[\"figure.figsize\"] = (20,10)\n",
    "country_cases_graph = cases_data[cases_data['Country/Region'].isin(top_countries)][['Country/Region',] + days_available]\n",
    "country_cases_graph = pd.melt(country_cases_graph, id_vars=[\"Country/Region\"], value_vars = days_available, var_name = 'day', value_name = 'cases')\n",
    "country_cases_graph['day'] = country_cases_graph.apply(lambda x: datetime.strptime(x['day'], '%m/%d/%y'), axis=1)\n",
    "country_cases_graph.reset_index(inplace=True)\n",
    "country_cases_graph = pd.pivot_table(country_cases_graph, values=['cases'], columns=['Country/Region'], index=['day'], aggfunc={'cases': np.sum})\n",
    "for country in list(country_cases_graph.columns.levels[1]):\n",
    "    plt.plot(country_cases_graph.index, country_cases_graph['cases'][country])\n",
    "plt.legend()\n",
    "print(countries_cases.head(top_no_countries))"
   ]
  },
  {
   "cell_type": "code",
   "execution_count": null,
   "metadata": {
    "scrolled": true
   },
   "outputs": [],
   "source": [
    "# country deaths - graph\n",
    "plt.rcParams[\"figure.figsize\"] = (20,10)\n",
    "country_deaths_graph = deaths_data[cases_data['Country/Region'].isin(top_countries)][['Country/Region',] + days_available]\n",
    "country_deaths_graph = pd.melt(country_deaths_graph, id_vars=[\"Country/Region\"], value_vars = days_available, var_name = 'day', value_name = 'cases')\n",
    "country_deaths_graph['day'] = country_deaths_graph.apply(lambda x: datetime.strptime(x['day'], '%m/%d/%y'), axis=1)\n",
    "country_deaths_graph.reset_index(inplace=True)\n",
    "country_deaths_graph = pd.pivot_table(country_deaths_graph, values=['cases'], columns=['Country/Region'], index=['day'], aggfunc={'cases': np.sum})\n",
    "for country in list(country_deaths_graph.columns.levels[1]):\n",
    "    plt.plot(country_deaths_graph.index, country_deaths_graph['cases'][country])\n",
    "plt.legend()\n",
    "print(countries_deaths.head(top_no_countries))"
   ]
  },
  {
   "cell_type": "code",
   "execution_count": null,
   "metadata": {},
   "outputs": [],
   "source": [
    "os.chdir(\"C:/Users/\"+user+\"/Documents/git/covid19_daily_charts\")\n",
    "subprocess.check_output([\"git\", \"add\", \"covid19_daily_charts.ipynb\"])\n",
    "subprocess.check_output([\"git\", \"commit\", \"-m\", \"'updating the data'\"])\n",
    "subprocess.check_output([\"git\", \"push\"])"
   ]
  }
 ],
 "metadata": {
  "kernelspec": {
   "display_name": "Python 3",
   "language": "python",
   "name": "python3"
  },
  "language_info": {
   "codemirror_mode": {
    "name": "ipython",
    "version": 3
   },
   "file_extension": ".py",
   "mimetype": "text/x-python",
   "name": "python",
   "nbconvert_exporter": "python",
   "pygments_lexer": "ipython3",
   "version": "3.8.2"
  }
 },
 "nbformat": 4,
 "nbformat_minor": 2
}
